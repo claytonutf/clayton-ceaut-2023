{
 "cells": [
  {
   "cell_type": "markdown",
   "id": "organized-quantity",
   "metadata": {},
   "source": [
    "PYTHON BASICS"
   ]
  },
  {
   "cell_type": "markdown",
   "id": "dutch-story",
   "metadata": {},
   "source": [
    "PROF CLAYTON KOSSOSKI"
   ]
  },
  {
   "cell_type": "markdown",
   "id": "global-framework",
   "metadata": {},
   "source": [
    "CURSO DE ESPECIALIZAÇÃO EM AUTOMAÇÃO INDUSTRIAL(CEAUT)[2023]"
   ]
  },
  {
   "cell_type": "markdown",
   "id": "signed-monster",
   "metadata": {},
   "source": [
    "REFERÊNCIAS\n",
    "\n",
    "https://www.w3schools.com/python/default.asp"
   ]
  },
  {
   "cell_type": "code",
   "execution_count": null,
   "id": "sufficient-phone",
   "metadata": {},
   "outputs": [],
   "source": [
    "print(\"Hello, World!\")"
   ]
  },
  {
   "cell_type": "markdown",
   "id": "prostate-screen",
   "metadata": {},
   "source": [
    "VARIÁVEIS"
   ]
  },
  {
   "cell_type": "code",
   "execution_count": null,
   "id": "nominated-economy",
   "metadata": {},
   "outputs": [],
   "source": [
    "#Exemplo básico de variáveis e condicionais\n",
    "\n",
    "a=5\n",
    "b=2\n",
    "if (a > b):\n",
    "    print(\"a é maior que b\")\n",
    "else:\n",
    "    print(\"a é menor que b\")"
   ]
  },
  {
   "cell_type": "markdown",
   "id": "acknowledged-brave",
   "metadata": {},
   "source": [
    "CONVERSÃO DE TIPOS"
   ]
  },
  {
   "cell_type": "code",
   "execution_count": null,
   "id": "congressional-softball",
   "metadata": {},
   "outputs": [],
   "source": [
    "x = str(3)    # x será '3'\n",
    "y = int(3)    # y será 3\n",
    "z = float(3)  # z será 3.0"
   ]
  },
  {
   "cell_type": "code",
   "execution_count": null,
   "id": "interstate-keyboard",
   "metadata": {},
   "outputs": [],
   "source": [
    "x = 5\n",
    "y = \"John\"\n",
    "print(type(x))\n",
    "print(type(y))"
   ]
  },
  {
   "cell_type": "markdown",
   "id": "textile-timber",
   "metadata": {},
   "source": [
    "ATRIBUIÇÕES"
   ]
  },
  {
   "cell_type": "code",
   "execution_count": null,
   "id": "foster-encounter",
   "metadata": {},
   "outputs": [],
   "source": [
    "x, y, z = \"Orange\", \"Banana\", \"Cherry\"\n",
    "print(x)\n",
    "print(y)\n",
    "print(z)"
   ]
  },
  {
   "cell_type": "code",
   "execution_count": null,
   "id": "simple-activity",
   "metadata": {},
   "outputs": [],
   "source": [
    "x = \"Python \"\n",
    "y = \"is \"\n",
    "z = \"incrível\"\n",
    "print(x + y + z)"
   ]
  },
  {
   "cell_type": "code",
   "execution_count": null,
   "id": "timely-fisher",
   "metadata": {},
   "outputs": [],
   "source": [
    "x = 5\n",
    "y = \"John\"\n",
    "print(x, y)"
   ]
  },
  {
   "cell_type": "markdown",
   "id": "handmade-louis",
   "metadata": {},
   "source": []
  },
  {
   "cell_type": "markdown",
   "id": "critical-indicator",
   "metadata": {},
   "source": [
    "TIPOS DE DADOS"
   ]
  },
  {
   "cell_type": "markdown",
   "id": "canadian-institution",
   "metadata": {},
   "source": [
    "https://www.w3schools.com/python/python_datatypes.asp"
   ]
  },
  {
   "cell_type": "markdown",
   "id": "fitting-qatar",
   "metadata": {},
   "source": [
    "https://www.w3schools.com/python/python_numbers.asp"
   ]
  },
  {
   "cell_type": "markdown",
   "id": "atomic-nomination",
   "metadata": {},
   "source": [
    "STRINGS"
   ]
  },
  {
   "cell_type": "code",
   "execution_count": null,
   "id": "strange-registration",
   "metadata": {},
   "outputs": [],
   "source": [
    "# posição do caractere\n",
    "\n",
    "a = \"Hello, World!\"\n",
    "print(a[1])"
   ]
  },
  {
   "cell_type": "code",
   "execution_count": null,
   "id": "improved-paste",
   "metadata": {},
   "outputs": [],
   "source": [
    "# slicing (fatiamento)\n",
    "\n",
    "b = \"Hello, World!\"\n",
    "print(b[2:5])"
   ]
  },
  {
   "cell_type": "code",
   "execution_count": null,
   "id": "rental-lebanon",
   "metadata": {},
   "outputs": [],
   "source": [
    "# tornar maiúsculo\n",
    "\n",
    "a = \"Hello, World!\"\n",
    "print(a.upper())"
   ]
  },
  {
   "cell_type": "code",
   "execution_count": null,
   "id": "altered-lodge",
   "metadata": {},
   "outputs": [],
   "source": [
    "# tornar minúsculo\n",
    "\n",
    "a = \"Hello, World!\"\n",
    "print(a.lower())"
   ]
  },
  {
   "cell_type": "code",
   "execution_count": null,
   "id": "fitting-redhead",
   "metadata": {},
   "outputs": [],
   "source": [
    "# remover espaços\n",
    "\n",
    "a = \" Hello, World! \"\n",
    "print(a.strip()) # returns \"Hello, World!\""
   ]
  },
  {
   "cell_type": "code",
   "execution_count": null,
   "id": "blond-palestinian",
   "metadata": {},
   "outputs": [],
   "source": [
    "# trocar caractere\n",
    "\n",
    "a = \"Hello, World!\"\n",
    "print(a.replace(\"H\", \"J\"))"
   ]
  },
  {
   "cell_type": "code",
   "execution_count": null,
   "id": "magnetic-independence",
   "metadata": {},
   "outputs": [],
   "source": [
    "# split (separar)\n",
    "\n",
    "a = \"Hello, World!\"\n",
    "print(a.split(\",\")) # returns ['Hello', ' World!']"
   ]
  },
  {
   "cell_type": "code",
   "execution_count": null,
   "id": "extensive-savannah",
   "metadata": {},
   "outputs": [],
   "source": [
    "# concatenar\n",
    "\n",
    "a = \"Hello\"\n",
    "b = \"World\"\n",
    "c = a + \" \" + b\n",
    "print(c)"
   ]
  },
  {
   "cell_type": "markdown",
   "id": "expensive-committee",
   "metadata": {},
   "source": [
    "CARACTERES DE ESCAPE\n",
    "\n",
    "https://www.w3schools.com/python/python_strings_escape.asp"
   ]
  },
  {
   "cell_type": "markdown",
   "id": "powerful-safety",
   "metadata": {},
   "source": [
    "MÉTODOS STRING\n",
    "\n",
    "https://www.w3schools.com/python/python_strings_methods.asp"
   ]
  },
  {
   "cell_type": "markdown",
   "id": "sophisticated-collective",
   "metadata": {},
   "source": [
    "OPERADORES\n",
    "\n",
    "https://www.w3schools.com/python/python_operators.asp"
   ]
  },
  {
   "cell_type": "code",
   "execution_count": null,
   "id": "experimental-shame",
   "metadata": {},
   "outputs": [],
   "source": [
    "# tamanho da lista\n",
    "\n",
    "thislist = [\"apple\", 2, \"cherry\"]\n",
    "print(len(thislist))"
   ]
  },
  {
   "cell_type": "markdown",
   "id": "welsh-keeping",
   "metadata": {},
   "source": [
    "COLEÇÕES PYTHON (MATRIZES)"
   ]
  },
  {
   "cell_type": "code",
   "execution_count": null,
   "id": "waiting-saver",
   "metadata": {},
   "outputs": [],
   "source": [
    "Existem quatro tipos de dados de coleta na linguagem de programação Python:\n",
    "\n",
    "List: é uma coleção ordenada e mutável. Permite membros duplicados.\n",
    "Tuple: é uma coleção ordenada e imutável. Permite membros duplicados.\n",
    "Set: é uma coleção não ordenada, imutável e não indexada. Não permite membros duplicados.\n",
    "Dictionary: é uma coleção ordenada e mutável. Não permite membros duplicados."
   ]
  },
  {
   "cell_type": "markdown",
   "id": "stuffed-voice",
   "metadata": {},
   "source": [
    "DICTIONARY\n",
    "\n",
    "https://www.w3schools.com/python/python_dictionaries.asp"
   ]
  },
  {
   "cell_type": "code",
   "execution_count": null,
   "id": "equipped-somerset",
   "metadata": {},
   "outputs": [],
   "source": [
    "thisdict = {\n",
    "  \"brand\": \"Ford\",\n",
    "  \"model\": \"Mustang\",\n",
    "  \"year\": 1964\n",
    "}\n",
    "print(thisdict)"
   ]
  },
  {
   "cell_type": "code",
   "execution_count": null,
   "id": "respective-hollow",
   "metadata": {},
   "outputs": [],
   "source": [
    "# valores duplicados sobrescrevem os existentes\n",
    "\n",
    "thisdict = {\n",
    "  \"brand\": \"Ford\",\n",
    "  \"model\": \"Mustang\",\n",
    "  \"year\": 1964,\n",
    "  \"year\": 2020\n",
    "}\n",
    "print(thisdict)"
   ]
  },
  {
   "cell_type": "code",
   "execution_count": null,
   "id": "global-southeast",
   "metadata": {},
   "outputs": [],
   "source": [
    "thisdict = {\n",
    "  \"brand\": \"Ford\",\n",
    "  \"model\": \"Mustang\",\n",
    "  \"year\": 1964\n",
    "}\n",
    "print(thisdict[\"brand\"])"
   ]
  },
  {
   "cell_type": "code",
   "execution_count": null,
   "id": "political-catalog",
   "metadata": {},
   "outputs": [],
   "source": [
    "# os valores em um dicionário podem ser de qualquer tipo\n",
    "\n",
    "thisdict = {\n",
    "  \"brand\": \"Ford\",\n",
    "  \"electric\": False,\n",
    "  \"year\": 1964,\n",
    "  \"colors\": [\"red\", \"white\", \"blue\"]\n",
    "}\n",
    "\n",
    "thisdict[\"colors\"]"
   ]
  },
  {
   "cell_type": "code",
   "execution_count": null,
   "id": "apparent-ladder",
   "metadata": {},
   "outputs": [],
   "source": [
    "# também é possível usar o construtor dict() para criar um dicionário.\n",
    "\n",
    "thisdict = dict(name = \"John\", age = 36, country = \"Norway\")\n",
    "print(thisdict)"
   ]
  },
  {
   "cell_type": "markdown",
   "id": "electronic-grain",
   "metadata": {},
   "source": [
    "WHILE\n",
    "\n",
    "https://www.w3schools.com/python/python_while_loops.asp"
   ]
  },
  {
   "cell_type": "code",
   "execution_count": null,
   "id": "adapted-cemetery",
   "metadata": {},
   "outputs": [],
   "source": [
    "i = 1\n",
    "while (i < 6):\n",
    "    print(i)\n",
    "    i += 1"
   ]
  },
  {
   "cell_type": "markdown",
   "id": "established-russia",
   "metadata": {},
   "source": [
    "FOR\n",
    "\n",
    "https://www.w3schools.com/python/python_for_loops.asp"
   ]
  },
  {
   "cell_type": "code",
   "execution_count": null,
   "id": "central-coffee",
   "metadata": {},
   "outputs": [],
   "source": [
    "fruits = [\"apple\", \"banana\", \"cherry\"]\n",
    "for x in fruits:\n",
    "    print(x)\n",
    "    if (x == \"banana\"):\n",
    "        break"
   ]
  },
  {
   "cell_type": "markdown",
   "id": "fifteen-screen",
   "metadata": {},
   "source": [
    "FUNÇÕES\n",
    "\n",
    "https://www.w3schools.com/python/python_functions.asp"
   ]
  },
  {
   "cell_type": "code",
   "execution_count": null,
   "id": "smooth-receiver",
   "metadata": {},
   "outputs": [],
   "source": [
    "x = \"incrível\"\n",
    "\n",
    "def myfunc():\n",
    "  print(\"Python is \" + x)\n",
    "\n",
    "myfunc()"
   ]
  },
  {
   "cell_type": "markdown",
   "id": "elect-cross",
   "metadata": {},
   "source": [
    "def my_function(fname):\n",
    "    print(fname + \" Refsnes\")\n",
    "\n",
    "my_function(\"Emil\")\n",
    "my_function(\"Tobias\")\n",
    "my_function(\"Linus\")"
   ]
  },
  {
   "cell_type": "code",
   "execution_count": null,
   "id": "modular-brick",
   "metadata": {},
   "outputs": [],
   "source": [
    "def my_function(fname, lname):\n",
    "    print(fname + \" \" + lname)\n",
    "\n",
    "my_function(\"Emil\", \"Refsnes\")"
   ]
  },
  {
   "cell_type": "markdown",
   "id": "fluid-platform",
   "metadata": {},
   "source": [
    "CLASS\n",
    "\n",
    "https://www.w3schools.com/python/python_classes.asp"
   ]
  },
  {
   "cell_type": "code",
   "execution_count": null,
   "id": "linear-wisdom",
   "metadata": {},
   "outputs": [],
   "source": [
    "class Person:\n",
    "    def __init__(self, name, age):\n",
    "        self.name = name\n",
    "        self.age = age\n",
    "\n",
    "p1 = Person(\"John\", 36)\n",
    "\n",
    "print(p1.name)\n",
    "print(p1.age)"
   ]
  },
  {
   "cell_type": "markdown",
   "id": "spatial-calvin",
   "metadata": {},
   "source": [
    "FUNÇÕES MATEMÁTICAS\n",
    "\n",
    "https://www.w3schools.com/python/python_math.asp"
   ]
  },
  {
   "cell_type": "markdown",
   "id": "breathing-start",
   "metadata": {},
   "source": [
    "JSON\n",
    "\n",
    "https://www.w3schools.com/python/python_json.asp"
   ]
  },
  {
   "cell_type": "code",
   "execution_count": null,
   "id": "remarkable-injury",
   "metadata": {},
   "outputs": [],
   "source": [
    "# Parse JSON - Converter de JSON para Python\n",
    "\n",
    "import json\n",
    "\n",
    "# some JSON:\n",
    "x =  '{\"name\":\"John\", \"age\":30, \"city\":\"New York\"}'\n",
    "\n",
    "# parse x:\n",
    "y = json.loads(x)\n",
    "\n",
    "# the result is a Python dictionary:\n",
    "print(y[\"age\"])"
   ]
  },
  {
   "cell_type": "code",
   "execution_count": null,
   "id": "suited-gather",
   "metadata": {},
   "outputs": [],
   "source": [
    "# Converter de Python para JSON\n",
    "\n",
    "import json\n",
    "\n",
    "# a Python object (dict):\n",
    "x = {\n",
    "  \"name\": \"John\",\n",
    "  \"age\": 30,\n",
    "  \"city\": \"New York\"\n",
    "}\n",
    "\n",
    "# convert into JSON:\n",
    "y = json.dumps(x)\n",
    "\n",
    "# the result is a JSON string:\n",
    "print(y)"
   ]
  },
  {
   "cell_type": "markdown",
   "id": "pressing-webmaster",
   "metadata": {},
   "source": [
    "MANIPULAÇÃO DE ARQUIVOS\n",
    "\n",
    "https://www.w3schools.com/python/python_file_open.asp\n",
    "\n",
    "https://www.w3schools.com/python/python_file_write.asp"
   ]
  },
  {
   "cell_type": "code",
   "execution_count": null,
   "id": "educational-possession",
   "metadata": {},
   "outputs": [],
   "source": [
    "# leitura de um arquivo\n",
    "\n",
    "f = open(\"arquivo-exemplo.txt\", \"r\")\n",
    "print(f.read())\n",
    "f.close()"
   ]
  },
  {
   "cell_type": "code",
   "execution_count": null,
   "id": "quarterly-alpha",
   "metadata": {},
   "outputs": [],
   "source": [
    "# gravação de um arquivo\n",
    "\n",
    "f = open(\"arquivo-exemplo.txt\", \"a\")\n",
    "f.write(\"Boa esta aula!!!\")\n",
    "f.close()"
   ]
  },
  {
   "cell_type": "code",
   "execution_count": null,
   "id": "civic-clear",
   "metadata": {},
   "outputs": [],
   "source": [
    "CSV (COMMA SEPARATED VALUE)"
   ]
  },
  {
   "cell_type": "code",
   "execution_count": null,
   "id": "expired-leeds",
   "metadata": {},
   "outputs": [],
   "source": [
    "import csv\n",
    " \n",
    "with open('pessoas.csv') as csv_file:\n",
    "    reader = csv.reader(csv_file, delimiter=',', quotechar='!')\n",
    "    for row in reader:\n",
    "        print(row)"
   ]
  },
  {
   "cell_type": "markdown",
   "id": "recorded-diversity",
   "metadata": {},
   "source": [
    "GRÁFICOS\n",
    "\n",
    "https://www.w3schools.com/python/matplotlib_intro.asp"
   ]
  },
  {
   "cell_type": "code",
   "execution_count": null,
   "id": "funded-provider",
   "metadata": {},
   "outputs": [],
   "source": [
    "import matplotlib.pyplot as plt\n",
    "import numpy as np\n",
    "\n",
    "y = np.array([35, 25, 25, 15])\n",
    "\n",
    "plt.pie(y)\n",
    "plt.show() "
   ]
  }
 ],
 "metadata": {
  "kernelspec": {
   "display_name": "Python 3",
   "language": "python",
   "name": "python3"
  },
  "language_info": {
   "codemirror_mode": {
    "name": "ipython",
    "version": 3
   },
   "file_extension": ".py",
   "mimetype": "text/x-python",
   "name": "python",
   "nbconvert_exporter": "python",
   "pygments_lexer": "ipython3",
   "version": "3.6.15"
  }
 },
 "nbformat": 4,
 "nbformat_minor": 5
}
