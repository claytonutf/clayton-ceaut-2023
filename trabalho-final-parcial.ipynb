{
 "cells": [
  {
   "cell_type": "markdown",
   "metadata": {},
   "source": [
    "Faça uma análise de dados usando o Pyspark.\n",
    "\n",
    "Carregue o arquivo CSV deste dataset em um DataFrame Pyspark.\n",
    "\n",
    "Dada uma plataforma de video game: Ex: \"Wii\" liste os jogos mais vendidos globalmente nos últimos 5 anos."
   ]
  },
  {
   "cell_type": "code",
   "execution_count": null,
   "metadata": {},
   "outputs": [],
   "source": [
    "import pyspark\n",
    "from pyspark import SparkContext\n",
    "from pyspark.sql import SparkSession\n",
    "\n",
    "# Definição de quanta memória vai precisar dos Workers\n",
    "SparkContext.setSystemProperty('spark.executor.memory', '2g')\n",
    "\n",
    "# Atenção para a URL do master!\n",
    "spark = SparkSession \\\n",
    "    .builder \\\n",
    "    .appName(\"Aula CEAUT - Pypark\") \\\n",
    "    .config(\"spark.driver.cores\", 2) \\\n",
    "    .master(\"spark://vm:7077\") \\\n",
    "    .getOrCreate()\n",
    "\n",
    "\n",
    "sc = spark.sparkContext"
   ]
  },
  {
   "cell_type": "code",
   "execution_count": null,
   "metadata": {},
   "outputs": [],
   "source": [
    "from pyspark.sql.types import StructType,StructField, StringType, LongType, IntegerType, DoubleType\n",
    "schema = StructType() \\\n",
    "      .add(\"Rank\",IntegerType(),True) \\\n",
    "      .add(\"Name\",StringType(),True) \\\n",
    "      .add(\"Platform\",StringType(),True) \\\n",
    "      .add(\"Year\",IntegerType(),True) \\\n",
    "      .add(\"Genre\",StringType(),True) \\\n",
    "      .add(\"Publisher\",StringType(),True) \\\n",
    "      .add(\"NA_Sales\",DoubleType(),True) \\\n",
    "      .add(\"EU_Sales\",DoubleType(),True) \\\n",
    "      .add(\"JP_Sales\",DoubleType(),True) \\\n",
    "      .add(\"Other_Sales\",DoubleType(),True) \\\n",
    "      .add(\"Global_Sales\",DoubleType(),True) \\\n",
    "      \n",
    "df = spark.read.format(\"csv\") \\\n",
    "      .option(\"header\", True) \\\n",
    "      .schema(schema) \\\n",
    "      .load(\"datasets/video-game-sales.csv\")"
   ]
  },
  {
   "cell_type": "code",
   "execution_count": null,
   "metadata": {},
   "outputs": [],
   "source": [
    "df.printSchema()"
   ]
  },
  {
   "cell_type": "code",
   "execution_count": null,
   "metadata": {},
   "outputs": [],
   "source": []
  },
  {
   "cell_type": "markdown",
   "metadata": {},
   "source": [
    "# PYSPARK DATAFRAME"
   ]
  },
  {
   "cell_type": "code",
   "execution_count": null,
   "metadata": {},
   "outputs": [],
   "source": [
    "result=df.filter((\"Publisher == 'Nintendo'\") and (\"Year  == '2006'\")).show(30, truncate=True)\n"
   ]
  },
  {
   "cell_type": "code",
   "execution_count": null,
   "metadata": {},
   "outputs": [],
   "source": []
  },
  {
   "cell_type": "markdown",
   "metadata": {},
   "source": [
    "# API SQL"
   ]
  },
  {
   "cell_type": "code",
   "execution_count": null,
   "metadata": {},
   "outputs": [],
   "source": [
    "df.createOrReplaceTempView(\"games\")\n",
    "\n",
    "result = spark.sql(\"SELECT * FROM games WHERE Publisher= 'Nintendo' and Year=2009\")\n",
    "#result=spark.sql(\"SELECT MAX(Global_Sales) as gs FROM games WHERE Publisher='Nintendo' and Year==2009\")\n",
    "result.show(10)"
   ]
  },
  {
   "cell_type": "code",
   "execution_count": null,
   "metadata": {},
   "outputs": [],
   "source": [
    "result = spark.sql(\"SELECT * FROM games limit 20\")\n",
    "result.show(truncate=True)"
   ]
  },
  {
   "cell_type": "code",
   "execution_count": null,
   "metadata": {},
   "outputs": [],
   "source": [
    "busca=\"SELECT max(Global_Sales) from games where Platform='Wii' and Year=2009\"\n",
    "\n",
    "result = spark.sql(busca)\n",
    "\n",
    "result.show()"
   ]
  }
 ],
 "metadata": {
  "kernelspec": {
   "display_name": "Python 3",
   "language": "python",
   "name": "python3"
  },
  "language_info": {
   "codemirror_mode": {
    "name": "ipython",
    "version": 3
   },
   "file_extension": ".py",
   "mimetype": "text/x-python",
   "name": "python",
   "nbconvert_exporter": "python",
   "pygments_lexer": "ipython3",
   "version": "3.6.15"
  }
 },
 "nbformat": 4,
 "nbformat_minor": 4
}
